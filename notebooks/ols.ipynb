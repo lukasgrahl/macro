{
 "cells": [
  {
   "cell_type": "code",
   "execution_count": 48,
   "id": "72b2aeba",
   "metadata": {},
   "outputs": [],
   "source": [
    "%run init_notebook.py\n",
    "from settings import *"
   ]
  },
  {
   "cell_type": "code",
   "execution_count": 127,
   "id": "70f9147b",
   "metadata": {},
   "outputs": [],
   "source": [
    "import seaborn as sns\n",
    "import sympy as sp\n",
    "import matplotlib.pyplot as plt\n",
    "import numpy as np\n",
    "import pandas as pd\n",
    "\n",
    "import statsmodels.api as sm"
   ]
  },
  {
   "cell_type": "code",
   "execution_count": 128,
   "id": "35a45dd8",
   "metadata": {},
   "outputs": [],
   "source": [
    "df = sns.load_dataset('iris')"
   ]
  },
  {
   "cell_type": "markdown",
   "id": "a01006ed",
   "metadata": {},
   "source": [
    "#### Regression"
   ]
  },
  {
   "cell_type": "code",
   "execution_count": 129,
   "id": "22eb4932",
   "metadata": {},
   "outputs": [],
   "source": [
    "a = np.random.randint(0, 10, size=(1, 20))"
   ]
  },
  {
   "cell_type": "code",
   "execution_count": 130,
   "id": "5b2cb043",
   "metadata": {},
   "outputs": [
    {
     "data": {
      "text/plain": [
       "array([[3, 9, 8, 7, 1, 6, 2, 3, 8, 3, 0, 7, 8, 6, 5, 8, 3, 9, 8, 1]])"
      ]
     },
     "execution_count": 130,
     "metadata": {},
     "output_type": "execute_result"
    }
   ],
   "source": [
    "a"
   ]
  },
  {
   "cell_type": "code",
   "execution_count": 131,
   "id": "1298da57",
   "metadata": {},
   "outputs": [
    {
     "data": {
      "text/plain": [
       "array([[719]])"
      ]
     },
     "execution_count": 131,
     "metadata": {},
     "output_type": "execute_result"
    }
   ],
   "source": [
    "a @ a.transpose()"
   ]
  },
  {
   "cell_type": "code",
   "execution_count": null,
   "id": "f20dbd1d",
   "metadata": {},
   "outputs": [],
   "source": []
  },
  {
   "cell_type": "code",
   "execution_count": 132,
   "id": "3788ea7c",
   "metadata": {},
   "outputs": [],
   "source": [
    "params = sp.symbols(['X', 'y', 'n', 'k'])\n",
    "X, y, n, k = params"
   ]
  },
  {
   "cell_type": "code",
   "execution_count": 133,
   "id": "da0a0987",
   "metadata": {},
   "outputs": [],
   "source": [
    "X = sp.MatrixSymbol('X', n, k)\n",
    "b = sp.MatrixSymbol('b', k, 1)\n",
    "y = sp.MatrixSymbol('y', n, 1)\n",
    "e = sp.MatrixSymbol('epsilon', n, 1)\n",
    "\n",
    "β_h = (X.transpose() @ X).inverse() * (X.transpose() @ y)\n",
    "σ2_h = (e.transpose() @ e) / (n-k)\n",
    "# β_cov = σ2_h * (X.transpose() @ X).inverse()"
   ]
  },
  {
   "cell_type": "code",
   "execution_count": 134,
   "id": "dc2c6195",
   "metadata": {},
   "outputs": [
    {
     "data": {
      "text/latex": [
       "$\\displaystyle \\frac{1}{- k + n} \\epsilon^{T} \\epsilon$"
      ],
      "text/plain": [
       "1/(-k + n)*epsilon.T*epsilon"
      ]
     },
     "execution_count": 134,
     "metadata": {},
     "output_type": "execute_result"
    }
   ],
   "source": [
    "σ2_h"
   ]
  },
  {
   "cell_type": "code",
   "execution_count": 135,
   "id": "46c6fff5",
   "metadata": {},
   "outputs": [
    {
     "data": {
      "text/latex": [
       "$\\displaystyle \\left(X^{T} X\\right)^{-1} X^{T} y$"
      ],
      "text/plain": [
       "(X.T*X)**(-1)*X.T*y"
      ]
     },
     "execution_count": 135,
     "metadata": {},
     "output_type": "execute_result"
    }
   ],
   "source": [
    "β_h"
   ]
  },
  {
   "cell_type": "code",
   "execution_count": 136,
   "id": "6e15046e",
   "metadata": {},
   "outputs": [],
   "source": [
    "# normalise\n",
    "def normalise(arr):\n",
    "    return (arr - arr.min())/(arr.max() - arr.min())"
   ]
  },
  {
   "cell_type": "code",
   "execution_count": 137,
   "id": "0c0d35dc",
   "metadata": {},
   "outputs": [],
   "source": [
    "y = df['petal_width'].values.reshape(-1, 1)\n",
    "X = df.drop(['petal_width', 'species'], axis=1).values.reshape(-1, 3)\n",
    "\n",
    "# normalise\n",
    "for i in range(0, X.shape[1]):\n",
    "    X[:, i] = normalise(X[:, i])\n",
    "    \n",
    "# add constant\n",
    "X = np.concatenate((np.full((X.shape[0], 1), 1), X), axis=1)\n"
   ]
  },
  {
   "cell_type": "code",
   "execution_count": 173,
   "id": "a4a8fa54",
   "metadata": {},
   "outputs": [],
   "source": [
    "class OLS_reg:\n",
    "    \n",
    "    def __init__(self,\n",
    "                 X: np.array,\n",
    "                 y: np.array,\n",
    "                 critical_multicol_val: float = .85):\n",
    "            self.X = X\n",
    "            self.y = y\n",
    "            \n",
    "            # check dimensions\n",
    "            self.n = X.shape[0]\n",
    "            self.k = X.shape[1]\n",
    "            \n",
    "            self.critical_multicol_val = critical_multicol_val\n",
    "            \n",
    "            self.beta_hat = None\n",
    "            self.y_hat = None\n",
    "            self.resid = None\n",
    "            self.sigma2_h = None\n",
    "            self.beta_hat_cov = None\n",
    "            self.beta_standarerr = None\n",
    "            self.X_corrm = None\n",
    "            self.r2 = None\n",
    "            \n",
    "            self._check_assumptions()\n",
    "            pass\n",
    "    def _check_assumptions(self):\n",
    "        # dimensions\n",
    "        assert self.n / self.k >= 5, 'Dimensionality ratio n/k too small'\n",
    "        \n",
    "        # multicolineratiry\n",
    "        self.X_corrm = np.corrcoef(X.reshape(self.k, -1))\n",
    "        self.X_corrm = np.abs(self.X_corrm) > self.critical_multicol_val\n",
    "        np.sum(np.abs(np.corrcoef(X.reshape(4, -1))) > .85)\n",
    "        assert np.sum(self.X_corrm) == self.k, f'Multicolinerarity detected {self.X_corrm}'\n",
    "        pass\n",
    "    \n",
    "    def check_gauss_markov(self):\n",
    "        \n",
    "        # linear relationship\n",
    "        \n",
    "        # multicolinearity assumption\n",
    "        \n",
    "        # zero conditional mean\n",
    "        \n",
    "        # homoskedacity & no autocorrelation\n",
    "        \n",
    "        # central limit theorem\n",
    "        pass\n",
    "    \n",
    "    def _get_metrics(self):\n",
    "        self.r2 = 1 - np.sum((self.y.reshape(-1) - self.y_hat)**2) / np.sum((self.y.reshape(-1) - self.y.mean())**2)\n",
    "        \n",
    "        \n",
    "    def fit(self):\n",
    "        # beta hat\n",
    "        self.beta_hat = np.linalg.inv(self.X.transpose() @ self.X) @ (self.X.transpose() @ self.y)\n",
    "        \n",
    "        # y hat\n",
    "        self.y_hat = (self.X @ self.beta_hat).reshape(-1)\n",
    "        # residuals\n",
    "        self.resid = self.y.reshape(-1) - self.y_hat\n",
    "        # resid variance\n",
    "        self.sigma2_h = (self.resid.transpose() @ self.resid) / (self.n - self.k)\n",
    "        # resid cov matrix\n",
    "        self.beta_hat_cov = self.sigma2_h * np.linalg.inv(self.X.transpose() @ self.X)\n",
    "        # resid standard errors\n",
    "        self.beta_standarerr = np.sqrt(self.beta_hat_cov.diagonal())\n",
    "        pass\n",
    "    \n",
    "    def summary(self):\n",
    "        self._get_metrics()\n",
    "        df = pd.DataFrame(columns=[f'X{i}' for i in range(0, self.k)],\n",
    "                          index=['beta_hat', 'beta_std_err'],\n",
    "                          data=[self.beta_hat.reshape(-1),\n",
    "                                self.beta_standarerr])\n",
    "        \n",
    "        df_stats = pd.DataFrame(columns=['r2'],\n",
    "                                index=[1],\n",
    "                                data=[self.r2])\n",
    "        return df, df_stats"
   ]
  },
  {
   "cell_type": "code",
   "execution_count": 174,
   "id": "2f8ca9f0",
   "metadata": {},
   "outputs": [],
   "source": [
    "mymodel = OLS_reg(X, y)\n",
    "mymodel.fit()"
   ]
  },
  {
   "cell_type": "code",
   "execution_count": 175,
   "id": "f1c457f5",
   "metadata": {},
   "outputs": [
    {
     "data": {
      "text/plain": [
       "array([-0.1618113 , -0.74615787,  0.53478851,  3.09209038])"
      ]
     },
     "execution_count": 175,
     "metadata": {},
     "output_type": "execute_result"
    }
   ],
   "source": [
    "mymodel.beta_hat.reshape(-1)"
   ]
  },
  {
   "cell_type": "code",
   "execution_count": 176,
   "id": "290d1deb",
   "metadata": {},
   "outputs": [
    {
     "data": {
      "text/plain": [
       "array([0.0639615 , 0.17102223, 0.1174513 , 0.14449893])"
      ]
     },
     "execution_count": 176,
     "metadata": {},
     "output_type": "execute_result"
    }
   ],
   "source": [
    "mymodel.beta_standarerr"
   ]
  },
  {
   "cell_type": "code",
   "execution_count": 177,
   "id": "aae5d144",
   "metadata": {},
   "outputs": [
    {
     "data": {
      "text/plain": [
       "(                    X0        X1        X2        X3\n",
       " beta_hat     -0.161811 -0.746158  0.534789  3.092090\n",
       " beta_std_err  0.063961  0.171022  0.117451  0.144499,\n",
       "         r2\n",
       " 1  0.93785)"
      ]
     },
     "execution_count": 177,
     "metadata": {},
     "output_type": "execute_result"
    }
   ],
   "source": [
    "mymodel.summary()"
   ]
  },
  {
   "cell_type": "code",
   "execution_count": 75,
   "id": "39b3e887",
   "metadata": {},
   "outputs": [
    {
     "data": {
      "text/html": [
       "<table class=\"simpletable\">\n",
       "<caption>OLS Regression Results</caption>\n",
       "<tr>\n",
       "  <th>Dep. Variable:</th>            <td>y</td>        <th>  R-squared:         </th> <td>   0.938</td>\n",
       "</tr>\n",
       "<tr>\n",
       "  <th>Model:</th>                   <td>OLS</td>       <th>  Adj. R-squared:    </th> <td>   0.937</td>\n",
       "</tr>\n",
       "<tr>\n",
       "  <th>Method:</th>             <td>Least Squares</td>  <th>  F-statistic:       </th> <td>   734.4</td>\n",
       "</tr>\n",
       "<tr>\n",
       "  <th>Date:</th>             <td>Sat, 19 Nov 2022</td> <th>  Prob (F-statistic):</th> <td>7.83e-88</td>\n",
       "</tr>\n",
       "<tr>\n",
       "  <th>Time:</th>                 <td>15:33:13</td>     <th>  Log-Likelihood:    </th> <td>  36.751</td>\n",
       "</tr>\n",
       "<tr>\n",
       "  <th>No. Observations:</th>      <td>   150</td>      <th>  AIC:               </th> <td>  -65.50</td>\n",
       "</tr>\n",
       "<tr>\n",
       "  <th>Df Residuals:</th>          <td>   146</td>      <th>  BIC:               </th> <td>  -53.46</td>\n",
       "</tr>\n",
       "<tr>\n",
       "  <th>Df Model:</th>              <td>     3</td>      <th>                     </th>     <td> </td>   \n",
       "</tr>\n",
       "<tr>\n",
       "  <th>Covariance Type:</th>      <td>nonrobust</td>    <th>                     </th>     <td> </td>   \n",
       "</tr>\n",
       "</table>\n",
       "<table class=\"simpletable\">\n",
       "<tr>\n",
       "    <td></td>       <th>coef</th>     <th>std err</th>      <th>t</th>      <th>P>|t|</th>  <th>[0.025</th>    <th>0.975]</th>  \n",
       "</tr>\n",
       "<tr>\n",
       "  <th>const</th> <td>   -0.1618</td> <td>    0.064</td> <td>   -2.530</td> <td> 0.012</td> <td>   -0.288</td> <td>   -0.035</td>\n",
       "</tr>\n",
       "<tr>\n",
       "  <th>x1</th>    <td>   -0.7462</td> <td>    0.171</td> <td>   -4.363</td> <td> 0.000</td> <td>   -1.084</td> <td>   -0.408</td>\n",
       "</tr>\n",
       "<tr>\n",
       "  <th>x2</th>    <td>    0.5348</td> <td>    0.117</td> <td>    4.553</td> <td> 0.000</td> <td>    0.303</td> <td>    0.767</td>\n",
       "</tr>\n",
       "<tr>\n",
       "  <th>x3</th>    <td>    3.0921</td> <td>    0.144</td> <td>   21.399</td> <td> 0.000</td> <td>    2.807</td> <td>    3.378</td>\n",
       "</tr>\n",
       "</table>\n",
       "<table class=\"simpletable\">\n",
       "<tr>\n",
       "  <th>Omnibus:</th>       <td> 5.609</td> <th>  Durbin-Watson:     </th> <td>   1.573</td>\n",
       "</tr>\n",
       "<tr>\n",
       "  <th>Prob(Omnibus):</th> <td> 0.061</td> <th>  Jarque-Bera (JB):  </th> <td>   6.811</td>\n",
       "</tr>\n",
       "<tr>\n",
       "  <th>Skew:</th>          <td> 0.223</td> <th>  Prob(JB):          </th> <td>  0.0332</td>\n",
       "</tr>\n",
       "<tr>\n",
       "  <th>Kurtosis:</th>      <td> 3.944</td> <th>  Cond. No.          </th> <td>    19.2</td>\n",
       "</tr>\n",
       "</table><br/><br/>Notes:<br/>[1] Standard Errors assume that the covariance matrix of the errors is correctly specified."
      ],
      "text/plain": [
       "<class 'statsmodels.iolib.summary.Summary'>\n",
       "\"\"\"\n",
       "                            OLS Regression Results                            \n",
       "==============================================================================\n",
       "Dep. Variable:                      y   R-squared:                       0.938\n",
       "Model:                            OLS   Adj. R-squared:                  0.937\n",
       "Method:                 Least Squares   F-statistic:                     734.4\n",
       "Date:                Sat, 19 Nov 2022   Prob (F-statistic):           7.83e-88\n",
       "Time:                        15:33:13   Log-Likelihood:                 36.751\n",
       "No. Observations:                 150   AIC:                            -65.50\n",
       "Df Residuals:                     146   BIC:                            -53.46\n",
       "Df Model:                           3                                         \n",
       "Covariance Type:            nonrobust                                         \n",
       "==============================================================================\n",
       "                 coef    std err          t      P>|t|      [0.025      0.975]\n",
       "------------------------------------------------------------------------------\n",
       "const         -0.1618      0.064     -2.530      0.012      -0.288      -0.035\n",
       "x1            -0.7462      0.171     -4.363      0.000      -1.084      -0.408\n",
       "x2             0.5348      0.117      4.553      0.000       0.303       0.767\n",
       "x3             3.0921      0.144     21.399      0.000       2.807       3.378\n",
       "==============================================================================\n",
       "Omnibus:                        5.609   Durbin-Watson:                   1.573\n",
       "Prob(Omnibus):                  0.061   Jarque-Bera (JB):                6.811\n",
       "Skew:                           0.223   Prob(JB):                       0.0332\n",
       "Kurtosis:                       3.944   Cond. No.                         19.2\n",
       "==============================================================================\n",
       "\n",
       "Notes:\n",
       "[1] Standard Errors assume that the covariance matrix of the errors is correctly specified.\n",
       "\"\"\""
      ]
     },
     "execution_count": 75,
     "metadata": {},
     "output_type": "execute_result"
    }
   ],
   "source": [
    "model = sm.OLS(y, X)\n",
    "results = model.fit()\n",
    "results.summary()"
   ]
  },
  {
   "cell_type": "code",
   "execution_count": 191,
   "id": "195f0482",
   "metadata": {},
   "outputs": [
    {
     "data": {
      "text/plain": [
       "array([-0.1618113 , -0.74615787,  0.53478851,  3.09209038])"
      ]
     },
     "execution_count": 191,
     "metadata": {},
     "output_type": "execute_result"
    }
   ],
   "source": [
    "mymodel.beta_hat.reshape(-1)"
   ]
  },
  {
   "cell_type": "code",
   "execution_count": 192,
   "id": "e960649a",
   "metadata": {},
   "outputs": [
    {
     "data": {
      "text/plain": [
       "array([0.00409107, 0.0292486 , 0.01379481, 0.02087994])"
      ]
     },
     "execution_count": 192,
     "metadata": {},
     "output_type": "execute_result"
    }
   ],
   "source": [
    "mymodel.beta_stand_err"
   ]
  },
  {
   "cell_type": "code",
   "execution_count": null,
   "id": "2507b39d",
   "metadata": {},
   "outputs": [],
   "source": []
  },
  {
   "cell_type": "code",
   "execution_count": null,
   "id": "51483def",
   "metadata": {},
   "outputs": [],
   "source": []
  }
 ],
 "metadata": {
  "kernelspec": {
   "display_name": "env_miscellaneous",
   "language": "python",
   "name": "env_miscellaneous"
  },
  "language_info": {
   "codemirror_mode": {
    "name": "ipython",
    "version": 3
   },
   "file_extension": ".py",
   "mimetype": "text/x-python",
   "name": "python",
   "nbconvert_exporter": "python",
   "pygments_lexer": "ipython3",
   "version": "3.9.4"
  }
 },
 "nbformat": 4,
 "nbformat_minor": 5
}
