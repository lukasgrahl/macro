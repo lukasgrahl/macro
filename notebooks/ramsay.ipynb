{
 "cells": [
  {
   "cell_type": "code",
   "execution_count": 1,
   "id": "453b8732",
   "metadata": {},
   "outputs": [],
   "source": [
    "%run init_notebook.py\n",
    "from settings import *"
   ]
  },
  {
   "cell_type": "code",
   "execution_count": 2,
   "id": "ba59d66c",
   "metadata": {},
   "outputs": [],
   "source": [
    "import numpy as np\n",
    "import sympy as sp\n",
    "import matplotlib.pyplot as plt\n",
    "import scipy"
   ]
  },
  {
   "cell_type": "markdown",
   "id": "28a4bef1",
   "metadata": {},
   "source": [
    "### Ramsay"
   ]
  },
  {
   "cell_type": "code",
   "execution_count": 3,
   "id": "bb8520e4",
   "metadata": {},
   "outputs": [],
   "source": [
    "params = sp.symbols(['delta', 'alpha', 'rho', 'n', 'x', 'theta', 'sigma', 'A', '\\hat{k}(t)', '\\hat{c}(t)'])\n",
    "delta, alpha, rho, n, x, theta, sigma, A, kt, ct= params\n",
    "\n",
    "yt = A*kt**alpha\n",
    "ut = ct**(1-theta) / (1-theta)\n",
    "\n",
    "ctd = 1/sigma * ct * (yt.diff(kt) - (delta + rho + sigma * x)) # set to 0 and obtain k*\n",
    "ktd = yt - (delta + n + x) * kt - ct # set to zero and obtain c*\n",
    "\n",
    "kss = sp.solve(ctd, kt)[0]\n",
    "css = sp.solve(ktd.subs(kt, kss), ct)[0]\n",
    "\n",
    "cts = sp.solve(ktd, ct)[0]\n",
    "ct0 = sp.solve(sp.solve(ktd, ct)[0], kt)[0]\n",
    "\n",
    "kgold = sp.solve(sp.solve(ktd, ct)[0].diff(kt), kt)[0]\n",
    "cgold = sp.solve(ktd, ct)[0].subs(kt, kgold)\n",
    "\n",
    "make_cts = sp.lambdify(params, cts)\n",
    "make_css = sp.lambdify(params, css)\n",
    "make_kss = sp.lambdify(params, kss)\n",
    "make_ct0 = sp.lambdify(params, ct0)\n",
    "\n",
    "make_kgold = sp.lambdify(params, kgold)\n",
    "make_cgold = sp.lambdify(params, cgold)"
   ]
  },
  {
   "cell_type": "code",
   "execution_count": 4,
   "id": "c630ae65",
   "metadata": {},
   "outputs": [],
   "source": [
    "def plot_ramsay(params, simulations, color, width=.8, gkw=[4, 1]):\n",
    "\n",
    "    gkw = dict(width_ratios=gkw)\n",
    "    fig, ax = plt.subplots(1, 2, figsize=(15, 5), gridspec_kw=gkw)\n",
    "    \n",
    "    for i in params:\n",
    "        δ, α, ρ, n_, x_, θ, σ, A_ = i\n",
    "        ind = params.index(i)\n",
    "        _ct0 = make_ct0(δ, α, ρ, n_, x_, θ, σ, A_, 0, 0)\n",
    "        capital = np.linspace(0, _ct0, simulations)\n",
    "        consum = np.zeros(simulations)\n",
    "        \n",
    "        for i in range(0, simulations):\n",
    "            consum[i] = make_cts(δ, α, ρ, n_, x_, θ, σ, A_, capital[i], 0)\n",
    "\n",
    "        ax[0].hlines(make_css(δ, α, ρ, n_, x_, θ, σ, A_, 0, 0),\n",
    "                     0,\n",
    "                     make_kss(δ, α, ρ, n_, x_, θ, σ, A_, 0, 0),\n",
    "                     color=color[ind][0], linewidth=width, label='ss')\n",
    "        ax[0].vlines(make_kss(δ, α, ρ, n_, x_, θ, σ, A_, 0, 0),\n",
    "                     0,\n",
    "                     make_css(δ, α, ρ, n_, x_, θ, σ, A_, 0, 0),\n",
    "                     color=color[ind][0], linewidth=width)\n",
    "\n",
    "        ax[0].hlines(make_cgold(δ, α, ρ, n_, x_, θ, σ, A_, 0, 0),\n",
    "                     0,\n",
    "                     make_kgold(δ, α, ρ, n_, x_, θ, σ, A_, 0, 0), \n",
    "                     color=color[ind][1], linestyle='dashed',linewidth=width, label='gold')\n",
    "        ax[0].vlines(make_kgold(δ, α, ρ, n_, x_, θ, σ, A_, 0, 0),\n",
    "                     0,\n",
    "                     make_cgold(δ, α, ρ, n_, x_, θ, σ, A_, 0, 0),\n",
    "                     color=color[ind][1], linestyle='dashed', linewidth=width)\n",
    "\n",
    "        ax[0].plot(capital, consum, color=color[ind][2], label='$\\hat{c}$')\n",
    "\n",
    "        ax[0].legend()\n",
    "        ax[0].set_xlabel('$\\dot{\\hat{k}}$', size=12)\n",
    "        ax[0].set_ylabel('$\\dot{\\hat{c}}$', size=12)\n",
    "        ax[0].set_title('Phase diagram')\n",
    "        \n",
    "        print(f'KSS: {make_kss(δ, α, ρ, n_, x_, θ, σ, A_, 0, 0)}')\n",
    "        print(f'KGOLD: { make_kgold(δ, α, ρ, n_, x_, θ, σ, A_, 0, 0)}')\n",
    "\n",
    "    plt.tight_layout();"
   ]
  },
  {
   "cell_type": "code",
   "execution_count": 5,
   "id": "0bf58dcb",
   "metadata": {},
   "outputs": [
    {
     "data": {
      "text/latex": [
       "$\\displaystyle A \\left(\\left(\\frac{\\delta + \\rho + \\sigma x}{A \\alpha}\\right)^{\\frac{1}{\\alpha - 1}}\\right)^{\\alpha} - \\delta \\left(\\frac{\\delta + \\rho + \\sigma x}{A \\alpha}\\right)^{\\frac{1}{\\alpha - 1}} - n \\left(\\frac{\\delta + \\rho + \\sigma x}{A \\alpha}\\right)^{\\frac{1}{\\alpha - 1}} - x \\left(\\frac{\\delta + \\rho + \\sigma x}{A \\alpha}\\right)^{\\frac{1}{\\alpha - 1}}$"
      ],
      "text/plain": [
       "A*(((delta + rho + sigma*x)/(A*alpha))**(1/(alpha - 1)))**alpha - delta*((delta + rho + sigma*x)/(A*alpha))**(1/(alpha - 1)) - n*((delta + rho + sigma*x)/(A*alpha))**(1/(alpha - 1)) - x*((delta + rho + sigma*x)/(A*alpha))**(1/(alpha - 1))"
      ]
     },
     "execution_count": 5,
     "metadata": {},
     "output_type": "execute_result"
    }
   ],
   "source": [
    "css"
   ]
  },
  {
   "cell_type": "code",
   "execution_count": 6,
   "id": "6d6a9a5a",
   "metadata": {},
   "outputs": [
    {
     "data": {
      "text/latex": [
       "$\\displaystyle \\left(\\frac{\\delta + \\rho + \\sigma x}{A \\alpha}\\right)^{\\frac{1}{\\alpha - 1}}$"
      ],
      "text/plain": [
       "((delta + rho + sigma*x)/(A*alpha))**(1/(alpha - 1))"
      ]
     },
     "execution_count": 6,
     "metadata": {},
     "output_type": "execute_result"
    }
   ],
   "source": [
    "kss"
   ]
  },
  {
   "cell_type": "code",
   "execution_count": 11,
   "id": "7f15a383",
   "metadata": {},
   "outputs": [
    {
     "name": "stdout",
     "output_type": "stream",
     "text": [
      "KSS: 0.09765624999999999\n",
      "KGOLD: 0.5102040816326531\n",
      "KSS: 0.08650519031141869\n",
      "KGOLD: 0.39062499999999994\n"
     ]
    },
    {
     "data": {
      "image/png": "[encoded data removed]",
      "text/plain": [
       "<Figure size 1080x360 with 2 Axes>"
      ]
     },
     "metadata": {
      "needs_background": "light"
     },
     "output_type": "display_data"
    }
   ],
   "source": [
    "plot_ramsay(\n",
    "            params=[\n",
    "#                     [δ, α, ρ, n_, x_, θ, σ=1\\θ, A_]\n",
    "                    [.1, .5, .5, .1, .5, .5, 1/.5, 1],\n",
    "                    [.2, .5, .5, .1, .5, .5, 1/.5, 1]\n",
    "                    ],\n",
    "            color=[['green', 'green', 'blue'], ['red', 'red', 'black']],\n",
    "            simulations=100\n",
    "            )"
   ]
  },
  {
   "cell_type": "markdown",
   "id": "a05dad4b",
   "metadata": {},
   "source": [
    "#### Linearisation"
   ]
  },
  {
   "cell_type": "code",
   "execution_count": 8,
   "id": "552ab63d",
   "metadata": {},
   "outputs": [],
   "source": [
    "params = sp.symbols(['\\dot{\\hat{k_t}}', '\\dot{\\hat{c_t}}', '\\hat{k_t}', '\\hat{c_t}',\n",
    "                     'rho', 'n', 'theta', 'x', 'alpha', 'delta', 'sigma', 'A'])\n",
    "ktd, ctd, kt, ct, rho, n, theta, x, alpha, delta, sigma, A = params"
   ]
  },
  {
   "cell_type": "code",
   "execution_count": 9,
   "id": "5175effd",
   "metadata": {},
   "outputs": [
    {
     "ename": "NameError",
     "evalue": "name 'a' is not defined",
     "output_type": "error",
     "traceback": [
      "\u001b[1;31m---------------------------------------------------------------------------\u001b[0m",
      "\u001b[1;31mNameError\u001b[0m                                 Traceback (most recent call last)",
      "\u001b[1;32m~\\AppData\\Local\\Temp\\ipykernel_13956\\1881503827.py\u001b[0m in \u001b[0;36m<cell line: 11>\u001b[1;34m()\u001b[0m\n\u001b[0;32m      9\u001b[0m dj = sp.Matrix([[rho - n - (1-theta)*x, -1],\n\u001b[0;32m     10\u001b[0m                 [ct/theta * yt.diff(kt).diff(kt).subs(kt, kss), 0]])\n\u001b[1;32m---> 11\u001b[1;33m \u001b[0mdj\u001b[0m \u001b[1;33m=\u001b[0m \u001b[0msp\u001b[0m\u001b[1;33m.\u001b[0m\u001b[0mMatrix\u001b[0m\u001b[1;33m(\u001b[0m\u001b[1;33m[\u001b[0m\u001b[1;33m[\u001b[0m\u001b[0ma\u001b[0m\u001b[1;33m,\u001b[0m \u001b[0mb\u001b[0m\u001b[1;33m]\u001b[0m\u001b[1;33m,\u001b[0m \u001b[1;33m[\u001b[0m\u001b[0mc\u001b[0m\u001b[1;33m,\u001b[0m \u001b[0md\u001b[0m\u001b[1;33m]\u001b[0m\u001b[1;33m]\u001b[0m\u001b[1;33m)\u001b[0m\u001b[1;33m\u001b[0m\u001b[1;33m\u001b[0m\u001b[0m\n\u001b[0m\u001b[0;32m     12\u001b[0m \u001b[1;33m\u001b[0m\u001b[0m\n\u001b[0;32m     13\u001b[0m \u001b[0mxt_ss\u001b[0m \u001b[1;33m=\u001b[0m \u001b[0msp\u001b[0m\u001b[1;33m.\u001b[0m\u001b[0mMatrix\u001b[0m\u001b[1;33m(\u001b[0m\u001b[1;33m[\u001b[0m\u001b[0mkt\u001b[0m \u001b[1;33m-\u001b[0m \u001b[0mkss\u001b[0m\u001b[1;33m,\u001b[0m \u001b[0mct\u001b[0m \u001b[1;33m-\u001b[0m \u001b[0mcss\u001b[0m\u001b[1;33m]\u001b[0m\u001b[1;33m)\u001b[0m\u001b[1;33m.\u001b[0m\u001b[0mreshape\u001b[0m\u001b[1;33m(\u001b[0m\u001b[1;36m1\u001b[0m\u001b[1;33m,\u001b[0m \u001b[1;36m2\u001b[0m\u001b[1;33m)\u001b[0m\u001b[1;33m\u001b[0m\u001b[1;33m\u001b[0m\u001b[0m\n",
      "\u001b[1;31mNameError\u001b[0m: name 'a' is not defined"
     ]
    }
   ],
   "source": [
    "yt = A*kt**alpha\n",
    "\n",
    "\n",
    "\n",
    "ss = sp.Matrix([kss, css]).reshape(1, 2)\n",
    "xt = sp.Matrix([ktd - kss, ctd - css])\n",
    "xd = sp.Matrix([kt, ct])\n",
    "\n",
    "dj = sp.Matrix([[rho - n - (1-theta)*x, -1],\n",
    "                [ct/theta * yt.diff(kt).diff(kt).subs(kt, kss), 0]])\n",
    "dj = sp.Matrix([[a, b], [c, d]])\n",
    "\n",
    "xt_ss = sp.Matrix([kt - kss, ct - css]).reshape(1, 2)\n",
    "\n",
    "# diff_eq = sp.Eq(xt = xd + jd @ kss)\n",
    "\n",
    "# make_kss = sp.lambdify(params, kss)\n",
    "# make_xt = sp.lambdify(params, xt)\n",
    "# make_xd = sp.lambdify(params, xd)\n",
    "# make_jd = sp.lambdify(params, jd)\n",
    "# make_xt_ss = sp.lambdify(params, xt_ss)\n"
   ]
  },
  {
   "cell_type": "code",
   "execution_count": null,
   "id": "9d57696f",
   "metadata": {},
   "outputs": [],
   "source": [
    "kss = 1/sigma * ct * (yt.diff(kt) - (delta + rho + sigma * x))\n",
    "kss = sp.solve(kss, kt)[0]\n",
    "\n",
    "css = yt - (delta + n + x) * kt - ct\n",
    "css = sp.solve(css, ct)[0]\n",
    "css = css.subs(kt, kss)\n",
    "\n",
    "d = sp.Matrix([[rho - n - (1 - theta)*x, x + n + delta - (rho + x + delta) / alpha],\n",
    "              [-(1 - alpha) * (rho + theta * x + delta) / theta, 0]])\n",
    "xt = sp.Matrix([sp.log(kt / kss), sp.log(ct/css)])\n",
    "xd = sp.Matrix([sp.log(ktd), sp.log(ctd)])\n",
    "\n",
    "loglin = sp.Eq(xd, d @ xt)\n",
    "\n",
    "make_kss = sp.lambdify(params, kss)\n",
    "make_css = sp.lambdify(params, css)\n",
    "\n",
    "\n",
    "make_xt = sp.lambdify(params, xt)\n",
    "make_loglin = sp.lambdify(params, loglin)\n",
    "make_d = sp.lambdify(params, d)\n",
    "make_d_eig = sp.lambdify(params, d.eigenvals())"
   ]
  },
  {
   "cell_type": "code",
   "execution_count": null,
   "id": "2ae1a623",
   "metadata": {},
   "outputs": [],
   "source": [
    "ρ = 1\n",
    "n_ = .1\n",
    "θ = .5\n",
    "α = .8\n",
    "x_ = .1\n",
    "δ = .1\n",
    "A_ = 1\n",
    "σ = 1/θ\n",
    "\n",
    "# 0, 0, 0, 0, ρ, n_, θ, α, x_, δ, A_\n",
    "\n",
    "kss_ = make_kss(0, 0, 0, 0, ρ, n_, θ, α, x_, δ, σ, A_)\n",
    "css_ = make_css(0, 0, 0, 0, ρ, n_, θ, α, x_, δ, σ, A_)\n",
    "\n",
    "simulations = 100\n",
    "interval = .2\n",
    "\n",
    "kt_range = np.linspace(kss_ * (1-interval), kss_ * (1+interval), simulations)"
   ]
  },
  {
   "cell_type": "code",
   "execution_count": null,
   "id": "857e6f26",
   "metadata": {},
   "outputs": [],
   "source": [
    "lam_d = scipy.linalg.eigh(make_d(0, 0, 0, 0, ρ, n_, θ, α, x_, δ, σ, A_), eigvals_only=True)\n",
    "lam_d"
   ]
  },
  {
   "cell_type": "code",
   "execution_count": null,
   "id": "c2716b36",
   "metadata": {},
   "outputs": [],
   "source": [
    "log_ktd = np.zeros(simulations)\n",
    "log_ctd = np.zeros(simulations)\n",
    "\n",
    "for i in range(0, simulations):\n",
    "    xt_ = make_xt(0, 0, kt_range[i], css_, ρ, n_, θ, α, x_, δ, σ, A_)\n",
    "    d_ = make_d(0, 0, 0, 0, ρ, n_, θ, α, x_, δ, σ, A_)\n",
    "\n",
    "    xd_ = d_ @ xt_\n",
    "    \n",
    "    log_ktd[i] = xd_[0]\n",
    "    log_ctd[i] = xd_[1]"
   ]
  },
  {
   "cell_type": "code",
   "execution_count": null,
   "id": "83c75f7c",
   "metadata": {},
   "outputs": [],
   "source": [
    "css_"
   ]
  },
  {
   "cell_type": "code",
   "execution_count": null,
   "id": "07a3093e",
   "metadata": {},
   "outputs": [],
   "source": [
    "kss_"
   ]
  },
  {
   "cell_type": "code",
   "execution_count": null,
   "id": "c42fe6a1",
   "metadata": {},
   "outputs": [],
   "source": [
    "plt.plot(sim_range, np.exp(log_ctd))\n",
    "plt.vlines(kss_, np.exp(log_ctd)[0], np.exp(log_ctd)[-1], color='blue', label='kss')\n",
    "plt.hlines(css_, sim_range[0], sim_range[-1], color='red', label='css')\n",
    "plt.legend()"
   ]
  },
  {
   "cell_type": "code",
   "execution_count": null,
   "id": "4778389f",
   "metadata": {},
   "outputs": [],
   "source": []
  },
  {
   "cell_type": "code",
   "execution_count": null,
   "id": "fd67b66c",
   "metadata": {},
   "outputs": [],
   "source": []
  },
  {
   "cell_type": "code",
   "execution_count": null,
   "id": "df6979be",
   "metadata": {},
   "outputs": [],
   "source": [
    "xt"
   ]
  },
  {
   "cell_type": "code",
   "execution_count": null,
   "id": "ab2f3ff4",
   "metadata": {},
   "outputs": [],
   "source": [
    "css_"
   ]
  },
  {
   "cell_type": "code",
   "execution_count": null,
   "id": "897952b5",
   "metadata": {},
   "outputs": [],
   "source": [
    "for i in "
   ]
  },
  {
   "cell_type": "code",
   "execution_count": null,
   "id": "5c9ea4f1",
   "metadata": {},
   "outputs": [],
   "source": []
  },
  {
   "cell_type": "code",
   "execution_count": null,
   "id": "ddae1679",
   "metadata": {},
   "outputs": [],
   "source": []
  },
  {
   "cell_type": "code",
   "execution_count": null,
   "id": "db1e1123",
   "metadata": {},
   "outputs": [],
   "source": [
    "xt_ = make_xt(0, 0, kss_*1.01, css_*1.01, ρ, n_, θ, α, x_, δ, σ, A_)\n",
    "d_ = make_d(0, 0, kss_*1.01, css_*1.01, ρ, n_, θ, α, x_, δ, σ, A_)\n",
    "\n",
    "xd_ = d_ @ xt_"
   ]
  },
  {
   "cell_type": "code",
   "execution_count": null,
   "id": "212f65d4",
   "metadata": {},
   "outputs": [],
   "source": [
    "xd_"
   ]
  },
  {
   "cell_type": "code",
   "execution_count": null,
   "id": "d644b90d",
   "metadata": {},
   "outputs": [],
   "source": []
  },
  {
   "cell_type": "code",
   "execution_count": null,
   "id": "db82e1a1",
   "metadata": {},
   "outputs": [],
   "source": []
  },
  {
   "cell_type": "code",
   "execution_count": null,
   "id": "f874d26a",
   "metadata": {},
   "outputs": [],
   "source": []
  },
  {
   "cell_type": "code",
   "execution_count": null,
   "id": "d35de6d3",
   "metadata": {},
   "outputs": [],
   "source": []
  },
  {
   "cell_type": "code",
   "execution_count": null,
   "id": "a511bd63",
   "metadata": {},
   "outputs": [],
   "source": [
    "make_loglin(0, 0, 0, 0, ρ, n_, θ, α, x_, δ, A_)"
   ]
  },
  {
   "cell_type": "code",
   "execution_count": null,
   "id": "af669ae8",
   "metadata": {},
   "outputs": [],
   "source": []
  },
  {
   "cell_type": "code",
   "execution_count": null,
   "id": "196afb49",
   "metadata": {},
   "outputs": [],
   "source": []
  },
  {
   "cell_type": "code",
   "execution_count": null,
   "id": "2ef332d4",
   "metadata": {},
   "outputs": [],
   "source": []
  },
  {
   "cell_type": "code",
   "execution_count": null,
   "id": "c992be5e",
   "metadata": {},
   "outputs": [],
   "source": []
  }
 ],
 "metadata": {
  "kernelspec": {
   "display_name": "env_miscellaneous",
   "language": "python",
   "name": "env_miscellaneous"
  },
  "language_info": {
   "codemirror_mode": {
    "name": "ipython",
    "version": 3
   },
   "file_extension": ".py",
   "mimetype": "text/x-python",
   "name": "python",
   "nbconvert_exporter": "python",
   "pygments_lexer": "ipython3",
   "version": "3.9.4"
  }
 },
 "nbformat": 4,
 "nbformat_minor": 5
}
