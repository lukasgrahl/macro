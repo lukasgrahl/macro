{
 "cells": [
  {
   "cell_type": "code",
   "execution_count": 3,
   "id": "b01b0e5b-b950-4141-ab43-237ccda37f23",
   "metadata": {},
   "outputs": [],
   "source": [
    "%run init_notebook.py \n",
    "from settings import *"
   ]
  },
  {
   "cell_type": "code",
   "execution_count": 4,
   "id": "63b038fc",
   "metadata": {},
   "outputs": [],
   "source": [
    "%matplotlib inline\n",
    "\n",
    "import numpy as np\n",
    "import sympy as sp\n",
    "import matplotlib.pyplot as plt\n",
    "\n",
    "from scipy import stats, optimize\n",
    "\n",
    "plot_defaults = {\n",
    "    'figure.figsize':(14,4),\n",
    "    'figure.facecolor':'white',\n",
    "    'axes.grid':True,\n",
    "    'grid.linewidth':0.5,\n",
    "    'grid.linestyle':'--',\n",
    "    'axes.spines.top':False,\n",
    "    'axes.spines.bottom':False,\n",
    "    'axes.spines.left':False,\n",
    "    'axes.spines.right':False\n",
    "}\n",
    "\n",
    "plt.rcParams.update(plot_defaults)"
   ]
  },
  {
   "cell_type": "markdown",
   "id": "554565c3",
   "metadata": {},
   "source": [
    "# Distributions in Python\n",
    "\n",
    "Up until now we've used `np.random.default_rng` to make random numbers. This is nice if all we want to do is sample, but if we want more functionality we can use `scipy.stats`."
   ]
  },
  {
   "cell_type": "code",
   "execution_count": 5,
   "id": "a20afcc7",
   "metadata": {},
   "outputs": [],
   "source": [
    "d = stats.norm(loc=0, scale=1.5)"
   ]
  },
  {
   "cell_type": "code",
   "execution_count": 6,
   "id": "b916c16c",
   "metadata": {},
   "outputs": [
    {
     "data": {
      "text/plain": [
       "<scipy.stats._distn_infrastructure.rv_continuous_frozen at 0x1ed3f920d60>"
      ]
     },
     "execution_count": 6,
     "metadata": {},
     "output_type": "execute_result"
    }
   ],
   "source": [
    "d"
   ]
  },
  {
   "cell_type": "code",
   "execution_count": 7,
   "id": "c257dc1c",
   "metadata": {},
   "outputs": [
    {
     "data": {
      "text/plain": [
       "0.0"
      ]
     },
     "execution_count": 7,
     "metadata": {},
     "output_type": "execute_result"
    }
   ],
   "source": [
    "d.mean()"
   ]
  },
  {
   "cell_type": "code",
   "execution_count": 8,
   "id": "eeb5b43c",
   "metadata": {},
   "outputs": [
    {
     "data": {
      "text/plain": [
       "1.5"
      ]
     },
     "execution_count": 8,
     "metadata": {},
     "output_type": "execute_result"
    }
   ],
   "source": [
    "d.std()"
   ]
  },
  {
   "cell_type": "code",
   "execution_count": 9,
   "id": "319c9676",
   "metadata": {},
   "outputs": [
    {
     "data": {
      "text/plain": [
       "2.25"
      ]
     },
     "execution_count": 9,
     "metadata": {},
     "output_type": "execute_result"
    }
   ],
   "source": [
    "d.var()"
   ]
  },
  {
   "cell_type": "code",
   "execution_count": 10,
   "id": "b150d00e",
   "metadata": {},
   "outputs": [
    {
     "data": {
      "text/plain": [
       "array([-2.97998738,  0.74020301, -0.70905495, -0.55526321, -3.49558428,\n",
       "        1.07040552, -0.13438912, -0.98611285, -0.43757112,  0.61906464])"
      ]
     },
     "execution_count": 10,
     "metadata": {},
     "output_type": "execute_result"
    }
   ],
   "source": [
    "d.rvs(10)"
   ]
  },
  {
   "cell_type": "markdown",
   "id": "c5c245e9",
   "metadata": {},
   "source": [
    "## Assignment 1\n",
    "\n",
    "Draw 500 random values from a `scipy.normal` distribution with mean 1 and standard deviation 2. Make a histogram of the sample with 50 bins."
   ]
  },
  {
   "cell_type": "code",
   "execution_count": 11,
   "id": "2362839c",
   "metadata": {},
   "outputs": [],
   "source": [
    "## YOUR CODE HERE"
   ]
  },
  {
   "cell_type": "markdown",
   "id": "09082236",
   "metadata": {},
   "source": [
    "## Probability Distribution Function (PDF)\n",
    "\n",
    "The PDF of a distribution maps values on the **support** to values in $\\mathcal R$. The output gives a relative likelihood of observing this value from the distribution. Note that it is *not* a probability, because continuous distributions cannot assign probabilities to a single value. \n",
    "\n",
    "What is true is that *ranges* of values on the support are probabilities, and that the PDF integrates to 1.  "
   ]
  },
  {
   "cell_type": "code",
   "execution_count": 12,
   "id": "993fc04f",
   "metadata": {},
   "outputs": [
    {
     "data": {
      "text/plain": [
       "0.2129653370149015"
      ]
     },
     "execution_count": 12,
     "metadata": {},
     "output_type": "execute_result"
    }
   ],
   "source": [
    "d.pdf(1)"
   ]
  },
  {
   "cell_type": "markdown",
   "id": "0ea4a523",
   "metadata": {},
   "source": [
    "You can also ask for a range of values at the same time."
   ]
  },
  {
   "cell_type": "code",
   "execution_count": 13,
   "id": "66bcab78",
   "metadata": {},
   "outputs": [
    {
     "data": {
      "text/plain": [
       "array([0.03599398, 0.10934005, 0.21296534, 0.26596152, 0.21296534,\n",
       "       0.10934005])"
      ]
     },
     "execution_count": 13,
     "metadata": {},
     "output_type": "execute_result"
    }
   ],
   "source": [
    "d.pdf(np.arange(-3,3))"
   ]
  },
  {
   "cell_type": "markdown",
   "id": "d6b13cb8",
   "metadata": {},
   "source": [
    "## Assignment 2:\n",
    "\n",
    "Use `np.linspace` to make an array of 100 numbers, evenly spaced, between -5 and 5. Save it as a variable. Compute the PDF of a Normal(0, 1.5) distribution for these values. Make a line plot, where the x-axis has the `linspace` variable, and the y-axis has the PDF of the linspace.\n",
    "\n",
    "On the sample plot, plot a histogram of 500 draws from the Normal(0, 1.5). "
   ]
  },
  {
   "cell_type": "code",
   "execution_count": 14,
   "id": "573e9ee7",
   "metadata": {},
   "outputs": [],
   "source": [
    "# To see the documentation for np.linspace, uncomment the next line and run the cell\n",
    "# np.linspace??"
   ]
  },
  {
   "cell_type": "markdown",
   "id": "b4335bc1",
   "metadata": {},
   "source": [
    "## Joint Probabilities\n",
    "\n",
    "You might recall from the summer refresher (or before!) that the *joint* probability of many events can be written as the product of the individual events:\n",
    "\n",
    "$$P(\\{X\\}_{i=0}^N) = \\prod_{i=0}^N p(x_i)$$\n",
    "\n",
    "Therefore if we have a bunch of data that we think came from one distribution, we can compute the PDF for each individual point, then multiply them all together."
   ]
  },
  {
   "cell_type": "code",
   "execution_count": 15,
   "id": "1b07c8b6",
   "metadata": {},
   "outputs": [],
   "source": [
    "d = stats.norm(0, 1.5)\n",
    "data = d.rvs(50)"
   ]
  },
  {
   "cell_type": "code",
   "execution_count": 16,
   "id": "930b812c",
   "metadata": {},
   "outputs": [
    {
     "data": {
      "text/plain": [
       "1.676474331430715e-39"
      ]
     },
     "execution_count": 16,
     "metadata": {},
     "output_type": "execute_result"
    }
   ],
   "source": [
    "p_data = d.pdf(data).prod()\n",
    "p_data"
   ]
  },
  {
   "cell_type": "markdown",
   "id": "69b6a02d",
   "metadata": {},
   "source": [
    "As you can see this is a very small number. If we have too much data, this can quickly become a number too small for the computer to represent, and it will be rounded to zero. This is known as **floating point imprecision**."
   ]
  },
  {
   "cell_type": "code",
   "execution_count": 17,
   "id": "1d523a74",
   "metadata": {},
   "outputs": [
    {
     "data": {
      "text/plain": [
       "0.0"
      ]
     },
     "execution_count": 17,
     "metadata": {},
     "output_type": "execute_result"
    }
   ],
   "source": [
    "data = d.rvs(500)\n",
    "d.pdf(data).prod()"
   ]
  },
  {
   "cell_type": "markdown",
   "id": "34125253",
   "metadata": {},
   "source": [
    "To combat this, it is very common in statistical computing to use the *log* of the PDF instead of the pdf itself. The log PDF is built into the scipy distribution as `d.logpdf`. The joint log probability will be :\n",
    "\n",
    "$$\\log P(\\{X\\}_{i=0}^N) = \\sum_{i=0}^N \\log p(x_i)$$\n"
   ]
  },
  {
   "cell_type": "code",
   "execution_count": 18,
   "id": "924605f3",
   "metadata": {},
   "outputs": [
    {
     "data": {
      "text/plain": [
       "-904.6181531555924"
      ]
     },
     "execution_count": 18,
     "metadata": {},
     "output_type": "execute_result"
    }
   ],
   "source": [
    "d.logpdf(data).sum()"
   ]
  },
  {
   "cell_type": "markdown",
   "id": "e8a0c492",
   "metadata": {},
   "source": [
    "## Assignment 3\n",
    "\n",
    "Plot the log probability for a Normal(0, 1.5) of 250 evenly spaced values between -5 and 5 (use `np.linspace`). Make a line plot of the gridpoints and their log probability. Make this line blue, and add a label.\n",
    "\n",
    "On a second axis, plot the probability for the same gridpoints and the same distribution. Make this line orange and add a label.\n",
    "\n",
    "Comment on the resulting plot."
   ]
  },
  {
   "cell_type": "code",
   "execution_count": 19,
   "id": "ac685f73",
   "metadata": {},
   "outputs": [
    {
     "data": {
      "image/png": "[encoded data removed]",
      "text/plain": [
       "<Figure size 1400x400 with 2 Axes>"
      ]
     },
     "metadata": {},
     "output_type": "display_data"
    }
   ],
   "source": [
    "fig, ax = plt.subplots()\n",
    "ax2 = ax.twinx()\n",
    "\n",
    "## YOUR CODE HERE"
   ]
  },
  {
   "cell_type": "markdown",
   "id": "c9648bd5",
   "metadata": {},
   "source": [
    "# Likelihood\n",
    "\n",
    "So far we have looked at the probability density of data. That is, we have kept the parameters of the distribution constant and varied the data. Often, however, we are interesting in estimating where some fixed data came from. For this, we turn to the **likelihood**.\n",
    "\n",
    "The Likelihood function is exactly identical to the probability distribution function! The difference is that we hold the data fixed, and we allow the parameters to vary.\n",
    "\n",
    "Because of this difference, the likelihood function is **not** a valid probability distribution! It does not integrate to 1.\n",
    "\n",
    "To see a likelihood function, we can fix the standard deviation of a distribution at the true value and use a loop over values of the mean"
   ]
  },
  {
   "cell_type": "code",
   "execution_count": null,
   "id": "3fb85d22",
   "metadata": {},
   "outputs": [],
   "source": [
    "rng = np.random.default_rng(1776)\n",
    "true_mean = rng.normal()\n",
    "data = rng.normal(loc=true_mean, scale=3.0, size=500)"
   ]
  },
  {
   "cell_type": "markdown",
   "id": "9fef1080",
   "metadata": {},
   "source": [
    "## Assignment 4\n",
    "\n",
    "As with the PDF, we will usually work with log likelihoods instead of likelihoods, to prevent floating point errors. Fill in the following code to compute the log likelihood for each value in `means`. Plot the results."
   ]
  },
  {
   "cell_type": "code",
   "execution_count": null,
   "id": "f18708c1",
   "metadata": {},
   "outputs": [],
   "source": [
    "means = np.linspace(-2, 2, 100)\n",
    "log_likelihoods = []\n",
    "\n",
    "for mean in means:\n",
    "    log_likelihood = # YOUR CODE HERE\n",
    "    log_likelihoods.append(log_likelihood)\n",
    "log_likelihoods = np.array(log_likelihoods)"
   ]
  },
  {
   "cell_type": "code",
   "execution_count": null,
   "id": "d13e0503",
   "metadata": {},
   "outputs": [],
   "source": [
    "## PLOTTING CODE GOES HERE"
   ]
  },
  {
   "cell_type": "markdown",
   "id": "f4c79fe9",
   "metadata": {},
   "source": []
  },
  {
   "cell_type": "markdown",
   "id": "e6e01c1d",
   "metadata": {},
   "source": [
    "We can get the maximum value of `log_likelihood` by using `np.argmax`. This returns the array index that contains the largest value. We can then ask for this index in `means` to see what mean is associated with the largest log-likelihood\n",
    "\n",
    "**Question**: Is maximizing the log likelihood the same thing is maximizing the likelihood, or do we need to make some adjustments?"
   ]
  },
  {
   "cell_type": "code",
   "execution_count": null,
   "id": "7bd8f1cc",
   "metadata": {},
   "outputs": [],
   "source": [
    "best_ll_idx = np.argmax(log_likelihoods)\n",
    "mean_mle = means[best_ll_idx]\n",
    "print(mean_mle)\n",
    "print(true_mean)"
   ]
  },
  {
   "cell_type": "markdown",
   "id": "ebe9f4ff",
   "metadata": {},
   "source": [
    "It turns out that for a normal distribution, the maximum likelihood estimatior is just the mean of the data, so we can check that too.\n"
   ]
  },
  {
   "cell_type": "code",
   "execution_count": null,
   "id": "b82ff079",
   "metadata": {},
   "outputs": [],
   "source": [
    "data.mean()"
   ]
  },
  {
   "cell_type": "markdown",
   "id": "e19aa0d6",
   "metadata": {},
   "source": [
    "## Assignment 5\n",
    "\n",
    "Next, we will use maximum likelihood to estimate two parameters, the unknown mean and standard deviation of a Normal distribution.\n",
    "\n",
    "Use code like that above, but you will now need two loops. I've gotten you started."
   ]
  },
  {
   "cell_type": "code",
   "execution_count": null,
   "id": "ae3dff02",
   "metadata": {},
   "outputs": [],
   "source": [
    "true_mean = rng.normal()\n",
    "true_std  = np.abs(rng.normal()) # Must be positive!\n",
    "data = np.random.normal(loc=true_mean, scale=true_std, size=500)\n",
    "\n",
    "means = np.linspace(-2, 2, 100)\n",
    "stds = np.linspace(1e-4, 2, 100)\n",
    "\n",
    "log_likelihoods = np.zeros((100, 100))\n",
    "\n",
    "for i, mean in enumerate(means):\n",
    "    for j, std in enumerate(stds):\n",
    "        ll = #YOUR CODE HERE\n",
    "        log_likelihoods[i, j] = ll"
   ]
  },
  {
   "cell_type": "markdown",
   "id": "71b1cb7e",
   "metadata": {},
   "source": [
    "`np.argmax` cannot handle 2d arrays. Instead, we will have to use `np.where` to ask for the coordinates where `log_likelihoods == max(log_likelihoods)`."
   ]
  },
  {
   "cell_type": "code",
   "execution_count": null,
   "id": "5bfa126e",
   "metadata": {},
   "outputs": [],
   "source": [
    "best_mean_idx, best_std_idx = np.where(log_likelihoods == np.amax(log_likelihoods))\n",
    "mean_mle = means[best_mean_idx]\n",
    "std_mle = stds[best_std_idx]"
   ]
  },
  {
   "cell_type": "code",
   "execution_count": null,
   "id": "ce7037cf",
   "metadata": {},
   "outputs": [],
   "source": [
    "print(mean_mle)\n",
    "print(true_mean)\n",
    "\n",
    "print(std_mle)\n",
    "print(true_std)"
   ]
  },
  {
   "cell_type": "markdown",
   "id": "b5a0bf58",
   "metadata": {},
   "source": [
    "## A better way\n",
    "\n",
    "Looping over the variables and saving the results is called a **grid search**. This is the most brute-force way to solve a problem in computing. There is almost always a better way. \n",
    "\n",
    "`scipy.optimize` offers many optimization algorithms that allow us to quickly find the minimum of a function of interest. It only does minimums, so if we want the maximum, we will have to instead minimize the negative of the target function."
   ]
  },
  {
   "cell_type": "markdown",
   "id": "525c7d42",
   "metadata": {},
   "source": [
    "## Assignment 6\n",
    "\n",
    "Fill in the code below to finish a helper function that will compute the negative log-likelihood of data given parameters. "
   ]
  },
  {
   "cell_type": "code",
   "execution_count": null,
   "id": "9a956aaa",
   "metadata": {},
   "outputs": [],
   "source": [
    "def negative_ll(params, data):\n",
    "    loc, scale = params\n",
    "#     d = # YOUR CODE HERE\n",
    "#     ll = # YOUR CODE HERE\n",
    "        \n",
    "    return -ll"
   ]
  },
  {
   "cell_type": "code",
   "execution_count": null,
   "id": "338eb550",
   "metadata": {},
   "outputs": [],
   "source": [
    "optimize.minimize(fun=negative_ll, \n",
    "                  x0=np.array([0.8, 0.8]),\n",
    "                  args=(data),\n",
    "                  bounds=[(None, None), (1e-4, None)])\n"
   ]
  },
  {
   "cell_type": "markdown",
   "id": "d08dee7a",
   "metadata": {},
   "source": [
    "# Bonus: OLS is Maximum Likelihood \n",
    "\n",
    "You've probably seen the analyic solution to OLS in econometrics class:\n",
    "\n",
    "$$ \\hat{\\beta} = (X^T X)^{-1} X^T y$$\n",
    "\n",
    "And indeed you can use this to directly get estimated parameters. But you can also do it by computing the maximum likelihood for $\\beta$ and $\\sigma$ of a normal distribution $N(X \\beta, \\sigma)$. "
   ]
  },
  {
   "cell_type": "code",
   "execution_count": null,
   "id": "9e22acd4",
   "metadata": {},
   "outputs": [],
   "source": [
    "from sklearn.datasets import make_regression\n",
    "\n",
    "intercept = rng.normal(loc=10, scale=10)\n",
    "true_std = np.abs(rng.normal(loc=0, scale=10))\n",
    "\n",
    "X, y, true_coefs = make_regression(n_samples=100, n_features=3, n_informative=3, bias=intercept, noise=true_std, coef=True)\n",
    "\n",
    "true_coefs = np.r_[intercept, true_coefs, true_std]\n",
    "# Add a column of ones\n",
    "X = np.c_[np.ones(X.shape[0]), X]"
   ]
  },
  {
   "cell_type": "code",
   "execution_count": null,
   "id": "0ec1c17f",
   "metadata": {},
   "outputs": [],
   "source": [
    "def neg_loglike_OLS(params, X, y):\n",
    "    # assume std is the last param, all others are beta\n",
    "    beta = params[:-1]\n",
    "    std = params[-1]\n",
    "    \n",
    "    mu_hat = X @ beta\n",
    "    ll = stats.norm(loc=mu_hat, scale=std).logpdf(y).sum()\n",
    "    \n",
    "    return -ll"
   ]
  },
  {
   "cell_type": "code",
   "execution_count": null,
   "id": "bcd92392",
   "metadata": {},
   "outputs": [],
   "source": [
    "k = X.shape[1] #number of columns\n",
    "\n",
    "bounds = [(None, None)] * k # beta values can be anything\n",
    "bounds += [(1e-4, None)] # std must be positive and non-zero\n",
    "\n",
    "optimize.minimize(fun=neg_loglike_OLS,\n",
    "                  x0 = np.full(k+1, 0.8), # start the optimization at 0.8, why not?,\n",
    "                  args=(X, y),\n",
    "                  bounds=bounds)"
   ]
  },
  {
   "cell_type": "code",
   "execution_count": null,
   "id": "6b435069",
   "metadata": {},
   "outputs": [],
   "source": [
    "true_coefs"
   ]
  },
  {
   "cell_type": "code",
   "execution_count": null,
   "id": "d63a466b",
   "metadata": {},
   "outputs": [],
   "source": []
  }
 ],
 "metadata": {
  "kernelspec": {
   "display_name": "Python 3 (ipykernel)",
   "language": "python",
   "name": "python3"
  },
  "language_info": {
   "codemirror_mode": {
    "name": "ipython",
    "version": 3
   },
   "file_extension": ".py",
   "mimetype": "text/x-python",
   "name": "python",
   "nbconvert_exporter": "python",
   "pygments_lexer": "ipython3",
   "version": "3.9.4"
  }
 },
 "nbformat": 4,
 "nbformat_minor": 5
}
