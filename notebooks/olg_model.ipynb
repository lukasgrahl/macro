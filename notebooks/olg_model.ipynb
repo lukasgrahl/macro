{
 "cells": [
  {
   "cell_type": "code",
   "execution_count": 1,
   "id": "038dc539-aff0-4397-9ec3-c18cd46b2617",
   "metadata": {},
   "outputs": [],
   "source": [
    "%run init_notebook.py"
   ]
  },
  {
   "cell_type": "code",
   "execution_count": 2,
   "id": "f9e14f9c-a086-49c0-b7d8-5090866c1604",
   "metadata": {},
   "outputs": [],
   "source": [
    "import sympy as sp\n",
    "import numpy as np\n",
    "import matplotlib.pyplot as plt"
   ]
  },
  {
   "cell_type": "markdown",
   "id": "af53d48d-f866-4acd-aeb7-74c2060ae093",
   "metadata": {},
   "source": [
    "## Main expressions"
   ]
  },
  {
   "cell_type": "code",
   "execution_count": 3,
   "id": "8d31b0d6-d580-43fa-9f41-4fd1bfc6440d",
   "metadata": {},
   "outputs": [],
   "source": [
    "params = sp.symbols(['kbar', 'w_t', 'c_t', 's_t', 'k_t', 'N_t', 'k_{t+1}', 'N_{t+1}', 'd_{t+1}', 'R_{t+1}', 'beta', 'n', 'K_t', 'L_t', 'psi', 'alpha', 'X'])\n",
    "kss, w, c, s, k, N, k1, N1, d, R, beta, n, K, L, psi, alpha, X = params\n",
    "\n",
    "# for i in _:\n",
    "    # display(i)"
   ]
  },
  {
   "cell_type": "code",
   "execution_count": 4,
   "id": "b15765c1-a108-44bd-acae-2fbe6d1e3019",
   "metadata": {},
   "outputs": [],
   "source": [
    "def assert_unique_solution(funcs: list):     \n",
    "    assert type(funcs[0]) == list, \"Need to feed nested list to funcs argument\"\n",
    "    \n",
    "    for i, func in enumerate(funcs):\n",
    "        assert len(func) == 1, f'Non unique solution for {display(func)}'\n",
    "        funcs[i] = func[0]\n",
    "        \n",
    "    if len(funcs) == 1:\n",
    "        return funcs[0]\n",
    "    else:\n",
    "        return funcs"
   ]
  },
  {
   "cell_type": "code",
   "execution_count": 5,
   "id": "1c8b31fa-0ce4-4ab3-936d-d416ca1ed840",
   "metadata": {},
   "outputs": [],
   "source": [
    "# utility func\n",
    "u = sp.Function('u')(sp.log(c) + beta * sp.log(d) + X)\n",
    "F = sp.Function('F')(X * K**alpha * L**(1-alpha))\n",
    "f = X * k**alpha\n",
    "\n",
    "## budget constraint\n",
    "b1 = sp.Eq(c + s, w)\n",
    "b2 = sp.Eq(d, s * R)\n",
    "# solve budget constraint for c and d\n",
    "b1_c = sp.solve(b1, c)\n",
    "b2_d = sp.solve(b2, d)\n",
    "b1_c, b2_d = assert_unique_solution([b1_c, b2_d])\n",
    "\n",
    "## get s_opt\n",
    "# replace c and d by expressions of x\n",
    "max_u = u.subs(c, b1_c)\n",
    "max_u = max_u.subs(d, b2_d)\n",
    "# get optimal response s\n",
    "\n",
    "s_opt = sp.solve(max_u.diff(s), s)\n",
    "s_opt = assert_unique_solution([s_opt])\n",
    "c_opt = sp.solve(b1.subs(s, s_opt), c)\n",
    "d_opt = sp.solve(b2.subs(s, s_opt), d)\n",
    "\n",
    "c_opt, d_opt = assert_unique_solution([c_opt, d_opt])\n",
    "\n",
    "## firm problem\n",
    "w_f = f - f.diff(k) * k\n",
    "R_f = f.diff(k)\n",
    "# repalce wt and Rt+1 with values from firm problem\n",
    "s_optf = s_opt.subs(w, w_f)\n",
    "c_optf = c_opt.subs(w, w_f)\n",
    "d_optf = d_opt.subs(w, w_f).subs(R, R_f)\n",
    "\n",
    "\n",
    "## get k_ss\n",
    "# get law of motion for k\n",
    "k_motion = sp.Eq(k1, s * 1/(1+n))\n",
    "k_motionf = k_motion.subs(s, s_optf).args[1]\n",
    "# get steady state for k+1 = k, off law of motion\n",
    "k_ss = k_motion.subs(s, s_optf)\n",
    "k_ss = sp.solve(k_ss.subs(k, kss).subs(k1, kss), kss)\n",
    "k_ss = assert_unique_solution([k_ss])\n",
    "\n",
    "## get k_gold\n",
    "psi = f - s\n",
    "\n",
    "k_gold = sp.solve(k_motion, s)\n",
    "k_gold = assert_unique_solution([k_gold])\n",
    "\n",
    "k_gold = psi.subs(s, k_gold).subs(k1, kss).subs(k, kss)\n",
    "k_gold = sp.solve(k_gold.diff(kss), kss)\n",
    "k_gold = assert_unique_solution([k_gold])\n",
    "\n",
    "## get k_ss stability\n",
    "\n",
    "k_stable = k_motion.subs(s, s_optf).args[1]\n",
    "k_stable = k_stable.diff(k)\n",
    "k_stable = k_stable.subs(k, k_ss)\n",
    "k_stable = sp.simplify(k_stable)"
   ]
  },
  {
   "cell_type": "code",
   "execution_count": 6,
   "id": "782e301f-b386-4ea7-a83a-867cb461b403",
   "metadata": {},
   "outputs": [
    {
     "data": {
      "text/latex": [
       "$\\displaystyle \\frac{\\beta \\left(- X \\alpha k_{t}^{\\alpha} + X k_{t}^{\\alpha}\\right)}{\\left(\\beta + 1\\right) \\left(n + 1\\right)}$"
      ],
      "text/plain": [
       "beta*(-X*alpha*k_t**alpha + X*k_t**alpha)/((beta + 1)*(n + 1))"
      ]
     },
     "metadata": {},
     "output_type": "display_data"
    },
    {
     "data": {
      "text/latex": [
       "$\\displaystyle \\frac{\\beta \\left(- X \\alpha k_{t}^{\\alpha} + X k_{t}^{\\alpha}\\right)}{\\beta + 1}$"
      ],
      "text/plain": [
       "beta*(-X*alpha*k_t**alpha + X*k_t**alpha)/(beta + 1)"
      ]
     },
     "metadata": {},
     "output_type": "display_data"
    },
    {
     "data": {
      "text/latex": [
       "$\\displaystyle \\frac{- X \\alpha k_{t}^{\\alpha} + X k_{t}^{\\alpha}}{\\beta + 1}$"
      ],
      "text/plain": [
       "(-X*alpha*k_t**alpha + X*k_t**alpha)/(beta + 1)"
      ]
     },
     "metadata": {},
     "output_type": "display_data"
    },
    {
     "data": {
      "text/latex": [
       "$\\displaystyle \\frac{X \\alpha \\beta k_{t}^{\\alpha} \\left(- X \\alpha k_{t}^{\\alpha} + X k_{t}^{\\alpha}\\right)}{k_{t} \\left(\\beta + 1\\right)}$"
      ],
      "text/plain": [
       "X*alpha*beta*k_t**alpha*(-X*alpha*k_t**alpha + X*k_t**alpha)/(k_t*(beta + 1))"
      ]
     },
     "metadata": {},
     "output_type": "display_data"
    }
   ],
   "source": [
    "display(k_motionf, s_optf, c_optf, d_optf)"
   ]
  },
  {
   "cell_type": "code",
   "execution_count": 7,
   "id": "c774d1d2-8ef9-4d48-bd74-47d08937f2c8",
   "metadata": {},
   "outputs": [],
   "source": [
    "params_sim = [beta, X, alpha, k, n]\n",
    "\n",
    "make_kmotion = sp.lambdify(params_sim, k_motionf)\n",
    "make_sopt = sp.lambdify(params_sim, s_optf)\n",
    "make_copt = sp.lambdify(params_sim, c_optf)\n",
    "make_dopt = sp.lambdify(params_sim, d_optf)\n",
    "\n",
    "make_kss = sp.lambdify(params_sim, k_ss)\n",
    "make_kgold = sp.lambdify(params_sim, k_gold)\n",
    "make_kstable = sp.lambdify(params_sim, k_stable)"
   ]
  },
  {
   "cell_type": "code",
   "execution_count": 8,
   "id": "68e61ab0-e76e-443d-9192-f5375f1847eb",
   "metadata": {},
   "outputs": [],
   "source": [
    "# matrix of (zxT)\n",
    "T = 40\n",
    "z = 4\n",
    "\n",
    "k0 = .0001\n",
    "_beta = 10\n",
    "_alpha = .8\n",
    "_X = 10\n",
    "_n = .05\n",
    "\n",
    "out = np.zeros((z, T))\n",
    "out[0, 0] = k0"
   ]
  },
  {
   "cell_type": "code",
   "execution_count": 9,
   "id": "bbbc2c35-7264-4ccd-8b39-3546218142f6",
   "metadata": {},
   "outputs": [
    {
     "data": {
      "text/plain": [
       "15.568259325922018"
      ]
     },
     "execution_count": 9,
     "metadata": {},
     "output_type": "execute_result"
    }
   ],
   "source": [
    "make_kss(_beta, _X, _alpha, 0, _n)"
   ]
  },
  {
   "cell_type": "code",
   "execution_count": 10,
   "id": "0e51802d-e193-40ab-87ba-35dc8ac1bdd7",
   "metadata": {},
   "outputs": [
    {
     "data": {
      "text/plain": [
       "25674.585422838507"
      ]
     },
     "execution_count": 10,
     "metadata": {},
     "output_type": "execute_result"
    }
   ],
   "source": [
    "make_kgold(_beta, _X, _alpha, 0, _n)"
   ]
  },
  {
   "cell_type": "code",
   "execution_count": 11,
   "id": "195e561a-92ce-4729-820a-b3fe50d899af",
   "metadata": {},
   "outputs": [
    {
     "data": {
      "text/plain": [
       "0.7999999999999999"
      ]
     },
     "execution_count": 11,
     "metadata": {},
     "output_type": "execute_result"
    }
   ],
   "source": [
    "make_kstable(_beta, _X, _alpha, 0, _n)"
   ]
  },
  {
   "cell_type": "code",
   "execution_count": 12,
   "id": "e44034c9-f6fa-4219-8361-924edc74576a",
   "metadata": {},
   "outputs": [],
   "source": [
    "for t in range(0, T-1): \n",
    "    # get s, c, d for time t\n",
    "    out[1, t] = make_sopt(_beta, _X, _alpha, out[0, t], _n)\n",
    "    out[2, t] = make_copt(_beta, _X, _alpha, out[0, t], _n)\n",
    "    out[3, t] = make_dopt(_beta, _X, _alpha, out[0, t], _n)\n",
    "    \n",
    "    # get kt+1\n",
    "    out[0, t+1] = make_kmotion(_beta, _X, _alpha, out[0, t], _n)\n",
    "\n",
    "out = out[:, :-1]"
   ]
  },
  {
   "cell_type": "code",
   "execution_count": 13,
   "id": "5d9a57c7-700f-47d5-a962-2c4081d8fca6",
   "metadata": {},
   "outputs": [
    {
     "data": {
      "text/plain": [
       "''"
      ]
     },
     "execution_count": 13,
     "metadata": {},
     "output_type": "execute_result"
    },
    {
     "data": {
      "image/png": "[encoded data removed]",
      "text/plain": [
       "<Figure size 1440x360 with 4 Axes>"
      ]
     },
     "metadata": {
      "needs_background": "light"
     },
     "output_type": "display_data"
    }
   ],
   "source": [
    "fig, ax = plt.subplots(1, 4, figsize=(20, 5))\n",
    "title_dict = {0: 'k_t', 1: 's_t', 2: 'c_t', 3: 'd_t'}\n",
    "\n",
    "for i in range(0, z):\n",
    "    ax[i].plot(out[i])\n",
    "    ax[i].set_title(title_dict[i])\n",
    "\n",
    "ax[1].hlines(make_sopt(_beta, _X, _alpha, \n",
    "                       make_kss(_beta, _X, _alpha, 0, _n),\n",
    "                       _n),\n",
    "             0, T, color='green', alpha=.6)\n",
    "    \n",
    "# plot k_ss\n",
    "ax[0].hlines(make_kss(_beta, _X, _alpha, 0, _n), 0, T, color='green', alpha=.6)\n",
    "# ax[0].hlines(make_kgold(_beta, _X, _alpha, 0, _n), 0, T, color='red')\n",
    "ax[0].legend(['k', 'k_ss', 'k_gold'], bbox_to_anchor=(0,0))\n",
    "\n",
    "plt.tight_layout()\n",
    ";"
   ]
  },
  {
   "cell_type": "code",
   "execution_count": null,
   "id": "8eeda0f4-c4fe-4c25-ba78-bf8a305e560a",
   "metadata": {},
   "outputs": [],
   "source": []
  },
  {
   "cell_type": "code",
   "execution_count": null,
   "id": "758764fb-3d4e-4f7b-a5f0-0fdb6a40b7e1",
   "metadata": {},
   "outputs": [],
   "source": []
  }
 ],
 "metadata": {
  "kernelspec": {
   "display_name": "env_miscellaneous",
   "language": "python",
   "name": "env_miscellaneous"
  },
  "language_info": {
   "codemirror_mode": {
    "name": "ipython",
    "version": 3
   },
   "file_extension": ".py",
   "mimetype": "text/x-python",
   "name": "python",
   "nbconvert_exporter": "python",
   "pygments_lexer": "ipython3",
   "version": "3.9.4"
  }
 },
 "nbformat": 4,
 "nbformat_minor": 5
}
